{
 "cells": [
  {
   "cell_type": "markdown",
   "metadata": {},
   "source": [
    "# Unit 4 Capstone - News Article Analysis & Classification\n",
    "\n",
    "## John A. Fonte\n",
    "\n",
    "---\n",
    "---\n",
    "\n",
    "### Instructions\n",
    "\n",
    "1. Find 100 different entries from at least 10 different authors (articles?)\n",
    "2. Reserve 25% for test set\n",
    "3. cluster vectorized data (go through a few clustering methods)\n",
    "4. Perform unsupervised feature generation and selection\n",
    "5. Perform supervised modeling by classifying by author\n",
    "6. Comment on your 25% holdout group. Did the clusters for the holdout group change dramatically, or were they consistent with the training groups? Is the performance of the model consistent? If not, why?\n",
    "7. Conclude with which models (clustering or not) work best for classifying texts.\n",
    "\n",
    "---\n",
    "---\n",
    "\n",
    "### About the Dataset\n",
    "\n",
    "__Source:__ https://archive.ics.uci.edu/ml/datasets/Reuter_50_50#\n",
    "\n",
    "__Description:__ This is a subset of the [Reuters Corpus Volume 1 (RCV1)](https://scikit-learn.org/0.17/datasets/rcv1.html). Specifically, this subset consists of the top 50 authors by article proliferation, with a total of 100 articles per each author within the combined training and testing sets."
   ]
  },
  {
   "cell_type": "markdown",
   "metadata": {},
   "source": [
    "---\n",
    "---\n",
    "# 1. Data Load and Cleaning"
   ]
  },
  {
   "cell_type": "code",
   "execution_count": 1,
   "metadata": {},
   "outputs": [],
   "source": [
    "import pandas as pd"
   ]
  },
  {
   "cell_type": "code",
   "execution_count": 2,
   "metadata": {},
   "outputs": [],
   "source": [
    "'''\n",
    "Loading Data from Local Computer\n",
    "Each author is a subfolder, and within each folder is a series of .txt files\n",
    "The goal of this cell is to load all the contents of every subfolder into the \n",
    "DataFrame, while retaining the author designation for those works.\n",
    "'''\n",
    "\n",
    "from os import listdir\n",
    "\n",
    "def multiple_file_load(file_directory):\n",
    "    \n",
    "    # identifying all author subfolders - appending them into list \n",
    "    \n",
    "    authorlist = []\n",
    "    textlist = []\n",
    "    \n",
    "    for author in listdir(file_directory):\n",
    "        authorname = str(author)\n",
    "        author_sub_directory = (file_directory + '/' + author) #author file path\n",
    "    \n",
    "    # identifying all files within each subfolder - \n",
    "    \n",
    "        for filename in listdir(author_sub_directory):\n",
    "            text_file_path = (author_sub_directory + '/' + filename) # text file path\n",
    "            \n",
    "            if (filename.lower().endswith('txt')):\n",
    "                authorlist.append(authorname)\n",
    "                textfile = open(text_file_path,'r') # this is how you open files\n",
    "                substantive_text = textfile.read()  # this is how to read a file\n",
    "                textlist.append(substantive_text)   # this is how to do something with that file\n",
    "                textfile.close()                    # this is how to close the file \n",
    "                                                             # (you must close one before opening another!)\n",
    "  # pushing the two lists into a dataframe \n",
    "\n",
    "    df = pd.DataFrame({'Author':authorlist, 'Text':textlist})\n",
    "    \n",
    "    return df\n",
    "                "
   ]
  },
  {
   "cell_type": "code",
   "execution_count": 3,
   "metadata": {},
   "outputs": [],
   "source": [
    "# loading training data (note the file path)\n",
    "df_train = multiple_file_load('D:/Github/Data-Science-Bootcamp/CAPSTONE - Unsupervised Learning/C50/C50train')"
   ]
  },
  {
   "cell_type": "code",
   "execution_count": 4,
   "metadata": {},
   "outputs": [
    {
     "data": {
      "text/html": [
       "<div>\n",
       "<style scoped>\n",
       "    .dataframe tbody tr th:only-of-type {\n",
       "        vertical-align: middle;\n",
       "    }\n",
       "\n",
       "    .dataframe tbody tr th {\n",
       "        vertical-align: top;\n",
       "    }\n",
       "\n",
       "    .dataframe thead th {\n",
       "        text-align: right;\n",
       "    }\n",
       "</style>\n",
       "<table border=\"1\" class=\"dataframe\">\n",
       "  <thead>\n",
       "    <tr style=\"text-align: right;\">\n",
       "      <th></th>\n",
       "      <th>Author</th>\n",
       "      <th>Text</th>\n",
       "    </tr>\n",
       "  </thead>\n",
       "  <tbody>\n",
       "    <tr>\n",
       "      <th>0</th>\n",
       "      <td>AaronPressman</td>\n",
       "      <td>The Internet may be overflowing with new techn...</td>\n",
       "    </tr>\n",
       "    <tr>\n",
       "      <th>1</th>\n",
       "      <td>AaronPressman</td>\n",
       "      <td>The U.S. Postal Service announced Wednesday a ...</td>\n",
       "    </tr>\n",
       "    <tr>\n",
       "      <th>2</th>\n",
       "      <td>AaronPressman</td>\n",
       "      <td>Elementary school students with access to the ...</td>\n",
       "    </tr>\n",
       "    <tr>\n",
       "      <th>3</th>\n",
       "      <td>AaronPressman</td>\n",
       "      <td>An influential Internet organisation has backe...</td>\n",
       "    </tr>\n",
       "    <tr>\n",
       "      <th>4</th>\n",
       "      <td>AaronPressman</td>\n",
       "      <td>An influential Internet organisation has backe...</td>\n",
       "    </tr>\n",
       "  </tbody>\n",
       "</table>\n",
       "</div>"
      ],
      "text/plain": [
       "          Author                                               Text\n",
       "0  AaronPressman  The Internet may be overflowing with new techn...\n",
       "1  AaronPressman  The U.S. Postal Service announced Wednesday a ...\n",
       "2  AaronPressman  Elementary school students with access to the ...\n",
       "3  AaronPressman  An influential Internet organisation has backe...\n",
       "4  AaronPressman  An influential Internet organisation has backe..."
      ]
     },
     "execution_count": 4,
     "metadata": {},
     "output_type": "execute_result"
    }
   ],
   "source": [
    "df_train.head()"
   ]
  },
  {
   "cell_type": "code",
   "execution_count": 5,
   "metadata": {},
   "outputs": [
    {
     "data": {
      "text/plain": [
       "2500"
      ]
     },
     "execution_count": 5,
     "metadata": {},
     "output_type": "execute_result"
    }
   ],
   "source": [
    "len(df_train)"
   ]
  },
  {
   "cell_type": "code",
   "execution_count": 6,
   "metadata": {},
   "outputs": [],
   "source": [
    "# adding the space in the authors...because I want it\n",
    "import re"
   ]
  },
  {
   "cell_type": "code",
   "execution_count": 7,
   "metadata": {},
   "outputs": [],
   "source": [
    "author_split = [re.findall('[A-Z][a-z]*', i) for i in df_train.Author]"
   ]
  },
  {
   "cell_type": "code",
   "execution_count": 8,
   "metadata": {},
   "outputs": [
    {
     "data": {
      "text/plain": [
       "[['Aaron', 'Pressman'],\n",
       " ['Aaron', 'Pressman'],\n",
       " ['Aaron', 'Pressman'],\n",
       " ['Aaron', 'Pressman'],\n",
       " ['Aaron', 'Pressman']]"
      ]
     },
     "execution_count": 8,
     "metadata": {},
     "output_type": "execute_result"
    }
   ],
   "source": [
    "author_split[:5]"
   ]
  },
  {
   "cell_type": "code",
   "execution_count": 9,
   "metadata": {},
   "outputs": [],
   "source": [
    "#joining them back together\n",
    "author_join = []\n",
    "\n",
    "for couple in author_split:\n",
    "    joined_string = couple[0] + ' ' + couple[1]\n",
    "    author_join.append(joined_string)    "
   ]
  },
  {
   "cell_type": "code",
   "execution_count": 10,
   "metadata": {},
   "outputs": [
    {
     "data": {
      "text/html": [
       "<div>\n",
       "<style scoped>\n",
       "    .dataframe tbody tr th:only-of-type {\n",
       "        vertical-align: middle;\n",
       "    }\n",
       "\n",
       "    .dataframe tbody tr th {\n",
       "        vertical-align: top;\n",
       "    }\n",
       "\n",
       "    .dataframe thead th {\n",
       "        text-align: right;\n",
       "    }\n",
       "</style>\n",
       "<table border=\"1\" class=\"dataframe\">\n",
       "  <thead>\n",
       "    <tr style=\"text-align: right;\">\n",
       "      <th></th>\n",
       "      <th>Author</th>\n",
       "      <th>Text</th>\n",
       "    </tr>\n",
       "  </thead>\n",
       "  <tbody>\n",
       "    <tr>\n",
       "      <th>2495</th>\n",
       "      <td>William Kazer</td>\n",
       "      <td>China's central bank chief has said that infla...</td>\n",
       "    </tr>\n",
       "    <tr>\n",
       "      <th>2496</th>\n",
       "      <td>William Kazer</td>\n",
       "      <td>China ushered in 1997, a year it has hailed as...</td>\n",
       "    </tr>\n",
       "    <tr>\n",
       "      <th>2497</th>\n",
       "      <td>William Kazer</td>\n",
       "      <td>China issued tough new rules on the handling o...</td>\n",
       "    </tr>\n",
       "    <tr>\n",
       "      <th>2498</th>\n",
       "      <td>William Kazer</td>\n",
       "      <td>China will avoid bold moves in tackling its ai...</td>\n",
       "    </tr>\n",
       "    <tr>\n",
       "      <th>2499</th>\n",
       "      <td>William Kazer</td>\n",
       "      <td>Communist Party chief Jiang Zemin has put his ...</td>\n",
       "    </tr>\n",
       "  </tbody>\n",
       "</table>\n",
       "</div>"
      ],
      "text/plain": [
       "             Author                                               Text\n",
       "2495  William Kazer  China's central bank chief has said that infla...\n",
       "2496  William Kazer  China ushered in 1997, a year it has hailed as...\n",
       "2497  William Kazer  China issued tough new rules on the handling o...\n",
       "2498  William Kazer  China will avoid bold moves in tackling its ai...\n",
       "2499  William Kazer  Communist Party chief Jiang Zemin has put his ..."
      ]
     },
     "execution_count": 10,
     "metadata": {},
     "output_type": "execute_result"
    }
   ],
   "source": [
    "df_train['Author'] = pd.Series(author_join)\n",
    "df_train.tail()"
   ]
  },
  {
   "cell_type": "code",
   "execution_count": 11,
   "metadata": {},
   "outputs": [
    {
     "data": {
      "text/html": [
       "<div>\n",
       "<style scoped>\n",
       "    .dataframe tbody tr th:only-of-type {\n",
       "        vertical-align: middle;\n",
       "    }\n",
       "\n",
       "    .dataframe tbody tr th {\n",
       "        vertical-align: top;\n",
       "    }\n",
       "\n",
       "    .dataframe thead th {\n",
       "        text-align: right;\n",
       "    }\n",
       "</style>\n",
       "<table border=\"1\" class=\"dataframe\">\n",
       "  <thead>\n",
       "    <tr style=\"text-align: right;\">\n",
       "      <th></th>\n",
       "      <th>Author</th>\n",
       "      <th>Text</th>\n",
       "    </tr>\n",
       "  </thead>\n",
       "  <tbody>\n",
       "    <tr>\n",
       "      <th>0</th>\n",
       "      <td>AaronPressman</td>\n",
       "      <td>U.S. Senators on Tuesday sharply criticized a ...</td>\n",
       "    </tr>\n",
       "    <tr>\n",
       "      <th>1</th>\n",
       "      <td>AaronPressman</td>\n",
       "      <td>Two members of Congress criticised the Federal...</td>\n",
       "    </tr>\n",
       "    <tr>\n",
       "      <th>2</th>\n",
       "      <td>AaronPressman</td>\n",
       "      <td>Commuters stuck in traffic on the Leesburg Pik...</td>\n",
       "    </tr>\n",
       "    <tr>\n",
       "      <th>3</th>\n",
       "      <td>AaronPressman</td>\n",
       "      <td>A broad coalition of corporations went to Capi...</td>\n",
       "    </tr>\n",
       "    <tr>\n",
       "      <th>4</th>\n",
       "      <td>AaronPressman</td>\n",
       "      <td>On the Internet, where new products come and g...</td>\n",
       "    </tr>\n",
       "  </tbody>\n",
       "</table>\n",
       "</div>"
      ],
      "text/plain": [
       "          Author                                               Text\n",
       "0  AaronPressman  U.S. Senators on Tuesday sharply criticized a ...\n",
       "1  AaronPressman  Two members of Congress criticised the Federal...\n",
       "2  AaronPressman  Commuters stuck in traffic on the Leesburg Pik...\n",
       "3  AaronPressman  A broad coalition of corporations went to Capi...\n",
       "4  AaronPressman  On the Internet, where new products come and g..."
      ]
     },
     "execution_count": 11,
     "metadata": {},
     "output_type": "execute_result"
    }
   ],
   "source": [
    "# Before I begin adding features, assignment asks for 25% data split, NOT 50/50\n",
    "# Going to have to concat some of those testing articles\n",
    "df_test = multiple_file_load('D:/Github/Data-Science-Bootcamp/CAPSTONE - Unsupervised Learning/C50/C50test')\n",
    "df_test.head()"
   ]
  },
  {
   "cell_type": "code",
   "execution_count": 12,
   "metadata": {},
   "outputs": [],
   "source": [
    "#another fix to Author column\n",
    "\n",
    "author_split = [re.findall('[A-Z][a-z]*', i) for i in df_test.Author]\n",
    "\n",
    "author_join = []\n",
    "\n",
    "for couple in author_split:\n",
    "    joined_string = couple[0] + ' ' + couple[1]\n",
    "    author_join.append(joined_string)    \n",
    "    \n",
    "df_test['Author'] = pd.Series(author_join)"
   ]
  },
  {
   "cell_type": "code",
   "execution_count": 13,
   "metadata": {},
   "outputs": [],
   "source": [
    "'''GOAL:\n",
    "Trying to get half of the datapoints OF EACH AUTHOR\n",
    "in the testing set into a new DataFrame, which\n",
    "will be concatenated onto the training set.\n",
    "I will delete that from the testing set later.\n",
    "\n",
    "Doing this instead of combining both and splitting 75/25 later \n",
    "ensures balanced data between the authors.\n",
    "'''\n",
    "\n",
    "def appendingdataframe(dataframe):\n",
    "    appendabledataframe = pd.DataFrame(columns=['Author', 'Text'])\n",
    "    \n",
    "    for item in dataframe.Author.unique():\n",
    "        print(\"Looping through \", item)\n",
    "        df_testauthor = df_test[df_test['Author'] == item].copy() \n",
    "        appendabledataframe = appendabledataframe.append(df_testauthor[25:], \n",
    "                                                         ignore_index=True) # want half of df_testauthor!\n",
    "    \n",
    "    return appendabledataframe\n",
    "    "
   ]
  },
  {
   "cell_type": "code",
   "execution_count": 14,
   "metadata": {
    "scrolled": true
   },
   "outputs": [
    {
     "name": "stdout",
     "output_type": "stream",
     "text": [
      "Looping through  Aaron Pressman\n",
      "Looping through  Alan Crosby\n",
      "Looping through  Alexander Smith\n",
      "Looping through  Benjamin Kang\n",
      "Looping through  Bernard Hickey\n",
      "Looping through  Brad Dorfman\n",
      "Looping through  Darren Schuettler\n",
      "Looping through  David Lawder\n",
      "Looping through  Edna Fernandes\n",
      "Looping through  Eric Auchard\n",
      "Looping through  Fumiko Fujisaki\n",
      "Looping through  Graham Earnshaw\n",
      "Looping through  Heather Scoffield\n",
      "Looping through  Jane Macartney\n",
      "Looping through  Jan Lopatka\n",
      "Looping through  Jim Gilchrist\n",
      "Looping through  Joe Ortiz\n",
      "Looping through  John Mastrini\n",
      "Looping through  Jonathan Birt\n",
      "Looping through  Jo Winterbottom\n",
      "Looping through  Karl Penhaul\n",
      "Looping through  Keith Weir\n",
      "Looping through  Kevin Drawbaugh\n",
      "Looping through  Kevin Morrison\n",
      "Looping through  Kirstin Ridley\n",
      "Looping through  Kourosh Karimkhany\n",
      "Looping through  Lydia Zajc\n",
      "Looping through  Lynne O\n",
      "Looping through  Lynnley Browning\n",
      "Looping through  Marcel Michelson\n",
      "Looping through  Mark Bendeich\n",
      "Looping through  Martin Wolk\n",
      "Looping through  Matthew Bunce\n",
      "Looping through  Michael Connor\n",
      "Looping through  Mure Dickie\n",
      "Looping through  Nick Louth\n",
      "Looping through  Patricia Commins\n",
      "Looping through  Peter Humphrey\n",
      "Looping through  Pierre Tran\n",
      "Looping through  Robin Sidel\n",
      "Looping through  Roger Fillion\n",
      "Looping through  Samuel Perry\n",
      "Looping through  Sarah Davison\n",
      "Looping through  Scott Hillis\n",
      "Looping through  Simon Cowell\n",
      "Looping through  Tan Ee\n",
      "Looping through  Therese Poletti\n",
      "Looping through  Tim Farrand\n",
      "Looping through  Todd Nissen\n",
      "Looping through  William Kazer\n"
     ]
    }
   ],
   "source": [
    "# using appendabledataframe to avoid screwing up original data\n",
    "# This is explicit inefficiency at the cost of being cautious\n",
    "\n",
    "df_train2 = df_train.append(appendingdataframe(df_train), ignore_index=True)"
   ]
  },
  {
   "cell_type": "code",
   "execution_count": 15,
   "metadata": {},
   "outputs": [
    {
     "data": {
      "text/plain": [
       "3750"
      ]
     },
     "execution_count": 15,
     "metadata": {},
     "output_type": "execute_result"
    }
   ],
   "source": [
    "# checking if the appending worked\n",
    "len(df_train2)"
   ]
  },
  {
   "cell_type": "code",
   "execution_count": 16,
   "metadata": {},
   "outputs": [],
   "source": [
    "df_train = df_train2.copy()"
   ]
  },
  {
   "cell_type": "code",
   "execution_count": 17,
   "metadata": {
    "collapsed": true
   },
   "outputs": [
    {
     "name": "stdout",
     "output_type": "stream",
     "text": [
      "Looping through  Aaron Pressman\n",
      "Looping through  Alan Crosby\n",
      "Looping through  Alexander Smith\n",
      "Looping through  Benjamin Kang\n",
      "Looping through  Bernard Hickey\n",
      "Looping through  Brad Dorfman\n",
      "Looping through  Darren Schuettler\n",
      "Looping through  David Lawder\n",
      "Looping through  Edna Fernandes\n",
      "Looping through  Eric Auchard\n",
      "Looping through  Fumiko Fujisaki\n",
      "Looping through  Graham Earnshaw\n",
      "Looping through  Heather Scoffield\n",
      "Looping through  Jane Macartney\n",
      "Looping through  Jan Lopatka\n",
      "Looping through  Jim Gilchrist\n",
      "Looping through  Joe Ortiz\n",
      "Looping through  John Mastrini\n",
      "Looping through  Jonathan Birt\n",
      "Looping through  Jo Winterbottom\n",
      "Looping through  Karl Penhaul\n",
      "Looping through  Keith Weir\n",
      "Looping through  Kevin Drawbaugh\n",
      "Looping through  Kevin Morrison\n",
      "Looping through  Kirstin Ridley\n",
      "Looping through  Kourosh Karimkhany\n",
      "Looping through  Lydia Zajc\n",
      "Looping through  Lynne O\n",
      "Looping through  Lynnley Browning\n",
      "Looping through  Marcel Michelson\n",
      "Looping through  Mark Bendeich\n",
      "Looping through  Martin Wolk\n",
      "Looping through  Matthew Bunce\n",
      "Looping through  Michael Connor\n",
      "Looping through  Mure Dickie\n",
      "Looping through  Nick Louth\n",
      "Looping through  Patricia Commins\n",
      "Looping through  Peter Humphrey\n",
      "Looping through  Pierre Tran\n",
      "Looping through  Robin Sidel\n",
      "Looping through  Roger Fillion\n",
      "Looping through  Samuel Perry\n",
      "Looping through  Sarah Davison\n",
      "Looping through  Scott Hillis\n",
      "Looping through  Simon Cowell\n",
      "Looping through  Tan Ee\n",
      "Looping through  Therese Poletti\n",
      "Looping through  Tim Farrand\n",
      "Looping through  Todd Nissen\n",
      "Looping through  William Kazer\n"
     ]
    },
    {
     "data": {
      "text/plain": [
       "3750"
      ]
     },
     "execution_count": 17,
     "metadata": {},
     "output_type": "execute_result"
    }
   ],
   "source": [
    "# doing same for df_test\n",
    "\n",
    "df_test2 = df_test.append(appendingdataframe(df_train), ignore_index=True)\n",
    "\n",
    "# checking if the appending worked\n",
    "len(df_test2)"
   ]
  },
  {
   "cell_type": "code",
   "execution_count": 18,
   "metadata": {},
   "outputs": [
    {
     "data": {
      "text/plain": [
       "1250"
      ]
     },
     "execution_count": 18,
     "metadata": {},
     "output_type": "execute_result"
    }
   ],
   "source": [
    "# and now to drop the rows added to df_train from df_test\n",
    "\n",
    "df_test2.drop_duplicates(keep=False, inplace=True)\n",
    "len(df_test2)"
   ]
  },
  {
   "cell_type": "code",
   "execution_count": 21,
   "metadata": {},
   "outputs": [],
   "source": [
    "df_test = df_test2.copy()"
   ]
  },
  {
   "cell_type": "markdown",
   "metadata": {},
   "source": [
    "## NOTE About Further Cleaning\n",
    "\n",
    "Usually, text cleaning requires the deletion of peculiar characters that were scraped alongside the raw text (such as repeated backslashes or brackets around the text). These would need to be cleaned out first before vectorization, as the provided vectorizers could not accommodate those random characters.\n",
    "\n",
    "When looking at the data here, it appears that the raw texts are clean, and so we can thankfully skip that step. We can now jump right into feature engineering:\n",
    "\n",
    "---\n",
    "\n",
    "# Adding Features\n",
    "\n",
    "Just some fun numerical features!"
   ]
  },
  {
   "cell_type": "code",
   "execution_count": 20,
   "metadata": {},
   "outputs": [],
   "source": [
    "# adding some numerical features for text analysis\n",
    "\n",
    "df_train['Raw Character Count'] = df_train['Text'].apply(lambda x: len(x))\n",
    "df_train['Raw Word Count'] = df_train['Text'].apply(lambda x: len(x.split()))"
   ]
  },
  {
   "cell_type": "code",
   "execution_count": 22,
   "metadata": {},
   "outputs": [],
   "source": [
    "# doing same for df_test\n",
    "\n",
    "df_test['Raw Character Count'] = df_test['Text'].apply(lambda x: len(x))\n",
    "df_test['Raw Word Count'] = df_test['Text'].apply(lambda x: len(x.split()))"
   ]
  },
  {
   "cell_type": "code",
   "execution_count": 23,
   "metadata": {},
   "outputs": [],
   "source": [
    "# creating numerical classes for authors:\n",
    "# I feel like one hot encoding would've screwed things up, so I did \"factorize\"\n",
    "\n",
    "df_train['AuthorNum'] = pd.factorize(df_train.Author)[0]\n",
    "df_train['AuthorNum'] = df_train['AuthorNum'].astype(\"category\")"
   ]
  },
  {
   "cell_type": "code",
   "execution_count": 24,
   "metadata": {},
   "outputs": [
    {
     "data": {
      "text/html": [
       "<div>\n",
       "<style scoped>\n",
       "    .dataframe tbody tr th:only-of-type {\n",
       "        vertical-align: middle;\n",
       "    }\n",
       "\n",
       "    .dataframe tbody tr th {\n",
       "        vertical-align: top;\n",
       "    }\n",
       "\n",
       "    .dataframe thead th {\n",
       "        text-align: right;\n",
       "    }\n",
       "</style>\n",
       "<table border=\"1\" class=\"dataframe\">\n",
       "  <thead>\n",
       "    <tr style=\"text-align: right;\">\n",
       "      <th></th>\n",
       "      <th>Author</th>\n",
       "      <th>Text</th>\n",
       "      <th>Raw Character Count</th>\n",
       "      <th>Raw Word Count</th>\n",
       "      <th>AuthorNum</th>\n",
       "    </tr>\n",
       "  </thead>\n",
       "  <tbody>\n",
       "    <tr>\n",
       "      <th>3745</th>\n",
       "      <td>William Kazer</td>\n",
       "      <td>China has scored new successes in its fight ag...</td>\n",
       "      <td>2473</td>\n",
       "      <td>411</td>\n",
       "      <td>49</td>\n",
       "    </tr>\n",
       "    <tr>\n",
       "      <th>3746</th>\n",
       "      <td>William Kazer</td>\n",
       "      <td>China has scored new successes in its fight ag...</td>\n",
       "      <td>2473</td>\n",
       "      <td>411</td>\n",
       "      <td>49</td>\n",
       "    </tr>\n",
       "    <tr>\n",
       "      <th>3747</th>\n",
       "      <td>William Kazer</td>\n",
       "      <td>China is on target with plans to to promote 10...</td>\n",
       "      <td>1742</td>\n",
       "      <td>287</td>\n",
       "      <td>49</td>\n",
       "    </tr>\n",
       "    <tr>\n",
       "      <th>3748</th>\n",
       "      <td>William Kazer</td>\n",
       "      <td>China may need to adjust the mix of its treasu...</td>\n",
       "      <td>3263</td>\n",
       "      <td>546</td>\n",
       "      <td>49</td>\n",
       "    </tr>\n",
       "    <tr>\n",
       "      <th>3749</th>\n",
       "      <td>William Kazer</td>\n",
       "      <td>A Chinese ideologue known for his strictly ort...</td>\n",
       "      <td>3026</td>\n",
       "      <td>483</td>\n",
       "      <td>49</td>\n",
       "    </tr>\n",
       "  </tbody>\n",
       "</table>\n",
       "</div>"
      ],
      "text/plain": [
       "             Author                                               Text  \\\n",
       "3745  William Kazer  China has scored new successes in its fight ag...   \n",
       "3746  William Kazer  China has scored new successes in its fight ag...   \n",
       "3747  William Kazer  China is on target with plans to to promote 10...   \n",
       "3748  William Kazer  China may need to adjust the mix of its treasu...   \n",
       "3749  William Kazer  A Chinese ideologue known for his strictly ort...   \n",
       "\n",
       "      Raw Character Count  Raw Word Count AuthorNum  \n",
       "3745                 2473             411        49  \n",
       "3746                 2473             411        49  \n",
       "3747                 1742             287        49  \n",
       "3748                 3263             546        49  \n",
       "3749                 3026             483        49  "
      ]
     },
     "execution_count": 24,
     "metadata": {},
     "output_type": "execute_result"
    }
   ],
   "source": [
    "df_train.tail()"
   ]
  },
  {
   "cell_type": "code",
   "execution_count": 25,
   "metadata": {},
   "outputs": [],
   "source": [
    "# and same for df_test...\n",
    "\n",
    "df_test['AuthorNum'] = pd.factorize(df_test.Author)[0]\n",
    "df_test['AuthorNum'] = df_test['AuthorNum'].astype(\"category\")"
   ]
  },
  {
   "cell_type": "code",
   "execution_count": 26,
   "metadata": {},
   "outputs": [
    {
     "data": {
      "text/html": [
       "<div>\n",
       "<style scoped>\n",
       "    .dataframe tbody tr th:only-of-type {\n",
       "        vertical-align: middle;\n",
       "    }\n",
       "\n",
       "    .dataframe tbody tr th {\n",
       "        vertical-align: top;\n",
       "    }\n",
       "\n",
       "    .dataframe thead th {\n",
       "        text-align: right;\n",
       "    }\n",
       "</style>\n",
       "<table border=\"1\" class=\"dataframe\">\n",
       "  <thead>\n",
       "    <tr style=\"text-align: right;\">\n",
       "      <th></th>\n",
       "      <th>Author</th>\n",
       "      <th>Text</th>\n",
       "      <th>Raw Character Count</th>\n",
       "      <th>Raw Word Count</th>\n",
       "      <th>AuthorNum</th>\n",
       "    </tr>\n",
       "  </thead>\n",
       "  <tbody>\n",
       "    <tr>\n",
       "      <th>2470</th>\n",
       "      <td>William Kazer</td>\n",
       "      <td>China's Foreign Minister Qian Qichen on Friday...</td>\n",
       "      <td>1827</td>\n",
       "      <td>299</td>\n",
       "      <td>49</td>\n",
       "    </tr>\n",
       "    <tr>\n",
       "      <th>2471</th>\n",
       "      <td>William Kazer</td>\n",
       "      <td>China blamed criminal elements on Sunday for a...</td>\n",
       "      <td>3156</td>\n",
       "      <td>516</td>\n",
       "      <td>49</td>\n",
       "    </tr>\n",
       "    <tr>\n",
       "      <th>2472</th>\n",
       "      <td>William Kazer</td>\n",
       "      <td>An unemployed Taiwanese journalist on Monday d...</td>\n",
       "      <td>3000</td>\n",
       "      <td>492</td>\n",
       "      <td>49</td>\n",
       "    </tr>\n",
       "    <tr>\n",
       "      <th>2473</th>\n",
       "      <td>William Kazer</td>\n",
       "      <td>China moved ahead on Wednesday with plans to h...</td>\n",
       "      <td>3762</td>\n",
       "      <td>590</td>\n",
       "      <td>49</td>\n",
       "    </tr>\n",
       "    <tr>\n",
       "      <th>2474</th>\n",
       "      <td>William Kazer</td>\n",
       "      <td>Premier Li Peng said on Friday China wanted a ...</td>\n",
       "      <td>2417</td>\n",
       "      <td>408</td>\n",
       "      <td>49</td>\n",
       "    </tr>\n",
       "  </tbody>\n",
       "</table>\n",
       "</div>"
      ],
      "text/plain": [
       "             Author                                               Text  \\\n",
       "2470  William Kazer  China's Foreign Minister Qian Qichen on Friday...   \n",
       "2471  William Kazer  China blamed criminal elements on Sunday for a...   \n",
       "2472  William Kazer  An unemployed Taiwanese journalist on Monday d...   \n",
       "2473  William Kazer  China moved ahead on Wednesday with plans to h...   \n",
       "2474  William Kazer  Premier Li Peng said on Friday China wanted a ...   \n",
       "\n",
       "      Raw Character Count  Raw Word Count AuthorNum  \n",
       "2470                 1827             299        49  \n",
       "2471                 3156             516        49  \n",
       "2472                 3000             492        49  \n",
       "2473                 3762             590        49  \n",
       "2474                 2417             408        49  "
      ]
     },
     "execution_count": 26,
     "metadata": {},
     "output_type": "execute_result"
    }
   ],
   "source": [
    "df_test.tail()"
   ]
  },
  {
   "cell_type": "code",
   "execution_count": 91,
   "metadata": {},
   "outputs": [],
   "source": [
    "# cleaning the spacyed text\n",
    "def text_cleaner(text):\n",
    "    text = re.sub(r'\\n', '', text)\n",
    "    text = re.sub(r'--', ' ', text)\n",
    "    text = re.sub(\"[\\[].*?[\\]]\", \"\", text)"
   ]
  },
  {
   "cell_type": "code",
   "execution_count": null,
   "metadata": {},
   "outputs": [],
   "source": [
    "# quick cleaning of text:\n",
    "\n",
    "df_train['Text'] = df_train['Text'].apply(lambda x: text_cleaner(x))\n",
    "df_test['Text'] = df_test['Text'].apply(lambda x: text_cleaner(x))"
   ]
  },
  {
   "cell_type": "code",
   "execution_count": 27,
   "metadata": {},
   "outputs": [],
   "source": [
    "# Doing a \"Meaningful Word Count\" via spacy implementation\n",
    "\n",
    "import spacy\n",
    "\n",
    "nlp = spacy.load('en')\n",
    "\n",
    "df_train['Spacy-ed Text'] = df_train['Text'].apply(lambda text: nlp(text))\n",
    "\n",
    "# Spacy-ing will take a LONG LONG LONG LONNNNNNNNNGGGGGGG TIME TO LOAD. BE PATIENT!\n",
    "# run-time (about five minutes for df_train)"
   ]
  },
  {
   "cell_type": "code",
   "execution_count": 28,
   "metadata": {},
   "outputs": [],
   "source": [
    "df_test['Spacy-ed Text'] = df_test['Text'].apply(lambda text: nlp(text))"
   ]
  },
  {
   "cell_type": "code",
   "execution_count": 29,
   "metadata": {},
   "outputs": [],
   "source": [
    "# setting up function to (1) lemmatize AND\n",
    "# (2) exclude stop words from the count\n",
    "\n",
    "from collections import Counter\n",
    "\n",
    "def lemma_frequencies(text, include_stop=True):\n",
    "    \n",
    "    # Build a list of lemmas.\n",
    "    # Strip out punctuation and, optionally, stop words.\n",
    "    lemmas = []\n",
    "    for token in text:\n",
    "        if not token.is_punct and (not token.is_stop or include_stop):\n",
    "            lemmas.append(token.lemma_) # this is why we needed to spacy/nlp-ify the texts first\n",
    "            \n",
    "    # Build and return a Counter object containing word counts.\n",
    "    return Counter(lemmas)"
   ]
  },
  {
   "cell_type": "code",
   "execution_count": 33,
   "metadata": {},
   "outputs": [],
   "source": [
    "df_train['Meaningful Word Count'] = df_train['Spacy-ed Text'].apply(lambda text: lemma_frequencies(text, \n",
    "                                                                                                   include_stop=False))\n",
    "df_test['Meaningful Word Count'] = df_test['Spacy-ed Text'].apply(lambda text: lemma_frequencies(text,\n",
    "                                                                                                include_stop=False))"
   ]
  },
  {
   "cell_type": "code",
   "execution_count": 92,
   "metadata": {},
   "outputs": [
    {
     "ename": "TypeError",
     "evalue": "expected string or bytes-like object",
     "output_type": "error",
     "traceback": [
      "\u001b[1;31m---------------------------------------------------------------------------\u001b[0m",
      "\u001b[1;31mTypeError\u001b[0m                                 Traceback (most recent call last)",
      "\u001b[1;32m<ipython-input-92-48db52186797>\u001b[0m in \u001b[0;36m<module>\u001b[1;34m\u001b[0m\n\u001b[1;32m----> 1\u001b[1;33m \u001b[0mdf_train\u001b[0m\u001b[1;33m[\u001b[0m\u001b[1;34m'Spacy-ed Text'\u001b[0m\u001b[1;33m]\u001b[0m \u001b[1;33m=\u001b[0m \u001b[0mdf_train\u001b[0m\u001b[1;33m[\u001b[0m\u001b[1;34m'Spacy-ed Text'\u001b[0m\u001b[1;33m]\u001b[0m\u001b[1;33m.\u001b[0m\u001b[0mapply\u001b[0m\u001b[1;33m(\u001b[0m\u001b[1;32mlambda\u001b[0m \u001b[0mx\u001b[0m\u001b[1;33m:\u001b[0m \u001b[0mtext_cleaner\u001b[0m\u001b[1;33m(\u001b[0m\u001b[0mx\u001b[0m\u001b[1;33m)\u001b[0m\u001b[1;33m)\u001b[0m\u001b[1;33m\u001b[0m\u001b[1;33m\u001b[0m\u001b[0m\n\u001b[0m\u001b[0;32m      2\u001b[0m \u001b[0mdf_test\u001b[0m\u001b[1;33m[\u001b[0m\u001b[1;34m'Spacy-ed Text'\u001b[0m\u001b[1;33m]\u001b[0m \u001b[1;33m=\u001b[0m \u001b[0mdf_test\u001b[0m\u001b[1;33m[\u001b[0m\u001b[1;34m'Spacy-ed Text'\u001b[0m\u001b[1;33m]\u001b[0m\u001b[1;33m.\u001b[0m\u001b[0mapply\u001b[0m\u001b[1;33m(\u001b[0m\u001b[1;32mlambda\u001b[0m \u001b[0mx\u001b[0m\u001b[1;33m:\u001b[0m \u001b[0mtext_cleaner\u001b[0m\u001b[1;33m(\u001b[0m\u001b[0mx\u001b[0m\u001b[1;33m)\u001b[0m\u001b[1;33m)\u001b[0m\u001b[1;33m\u001b[0m\u001b[1;33m\u001b[0m\u001b[0m\n",
      "\u001b[1;32mC:\\Anaconda\\lib\\site-packages\\pandas\\core\\series.py\u001b[0m in \u001b[0;36mapply\u001b[1;34m(self, func, convert_dtype, args, **kwds)\u001b[0m\n\u001b[0;32m   3192\u001b[0m             \u001b[1;32melse\u001b[0m\u001b[1;33m:\u001b[0m\u001b[1;33m\u001b[0m\u001b[1;33m\u001b[0m\u001b[0m\n\u001b[0;32m   3193\u001b[0m                 \u001b[0mvalues\u001b[0m \u001b[1;33m=\u001b[0m \u001b[0mself\u001b[0m\u001b[1;33m.\u001b[0m\u001b[0mastype\u001b[0m\u001b[1;33m(\u001b[0m\u001b[0mobject\u001b[0m\u001b[1;33m)\u001b[0m\u001b[1;33m.\u001b[0m\u001b[0mvalues\u001b[0m\u001b[1;33m\u001b[0m\u001b[1;33m\u001b[0m\u001b[0m\n\u001b[1;32m-> 3194\u001b[1;33m                 \u001b[0mmapped\u001b[0m \u001b[1;33m=\u001b[0m \u001b[0mlib\u001b[0m\u001b[1;33m.\u001b[0m\u001b[0mmap_infer\u001b[0m\u001b[1;33m(\u001b[0m\u001b[0mvalues\u001b[0m\u001b[1;33m,\u001b[0m \u001b[0mf\u001b[0m\u001b[1;33m,\u001b[0m \u001b[0mconvert\u001b[0m\u001b[1;33m=\u001b[0m\u001b[0mconvert_dtype\u001b[0m\u001b[1;33m)\u001b[0m\u001b[1;33m\u001b[0m\u001b[1;33m\u001b[0m\u001b[0m\n\u001b[0m\u001b[0;32m   3195\u001b[0m \u001b[1;33m\u001b[0m\u001b[0m\n\u001b[0;32m   3196\u001b[0m         \u001b[1;32mif\u001b[0m \u001b[0mlen\u001b[0m\u001b[1;33m(\u001b[0m\u001b[0mmapped\u001b[0m\u001b[1;33m)\u001b[0m \u001b[1;32mand\u001b[0m \u001b[0misinstance\u001b[0m\u001b[1;33m(\u001b[0m\u001b[0mmapped\u001b[0m\u001b[1;33m[\u001b[0m\u001b[1;36m0\u001b[0m\u001b[1;33m]\u001b[0m\u001b[1;33m,\u001b[0m \u001b[0mSeries\u001b[0m\u001b[1;33m)\u001b[0m\u001b[1;33m:\u001b[0m\u001b[1;33m\u001b[0m\u001b[1;33m\u001b[0m\u001b[0m\n",
      "\u001b[1;32mpandas/_libs/src\\inference.pyx\u001b[0m in \u001b[0;36mpandas._libs.lib.map_infer\u001b[1;34m()\u001b[0m\n",
      "\u001b[1;32m<ipython-input-92-48db52186797>\u001b[0m in \u001b[0;36m<lambda>\u001b[1;34m(x)\u001b[0m\n\u001b[1;32m----> 1\u001b[1;33m \u001b[0mdf_train\u001b[0m\u001b[1;33m[\u001b[0m\u001b[1;34m'Spacy-ed Text'\u001b[0m\u001b[1;33m]\u001b[0m \u001b[1;33m=\u001b[0m \u001b[0mdf_train\u001b[0m\u001b[1;33m[\u001b[0m\u001b[1;34m'Spacy-ed Text'\u001b[0m\u001b[1;33m]\u001b[0m\u001b[1;33m.\u001b[0m\u001b[0mapply\u001b[0m\u001b[1;33m(\u001b[0m\u001b[1;32mlambda\u001b[0m \u001b[0mx\u001b[0m\u001b[1;33m:\u001b[0m \u001b[0mtext_cleaner\u001b[0m\u001b[1;33m(\u001b[0m\u001b[0mx\u001b[0m\u001b[1;33m)\u001b[0m\u001b[1;33m)\u001b[0m\u001b[1;33m\u001b[0m\u001b[1;33m\u001b[0m\u001b[0m\n\u001b[0m\u001b[0;32m      2\u001b[0m \u001b[0mdf_test\u001b[0m\u001b[1;33m[\u001b[0m\u001b[1;34m'Spacy-ed Text'\u001b[0m\u001b[1;33m]\u001b[0m \u001b[1;33m=\u001b[0m \u001b[0mdf_test\u001b[0m\u001b[1;33m[\u001b[0m\u001b[1;34m'Spacy-ed Text'\u001b[0m\u001b[1;33m]\u001b[0m\u001b[1;33m.\u001b[0m\u001b[0mapply\u001b[0m\u001b[1;33m(\u001b[0m\u001b[1;32mlambda\u001b[0m \u001b[0mx\u001b[0m\u001b[1;33m:\u001b[0m \u001b[0mtext_cleaner\u001b[0m\u001b[1;33m(\u001b[0m\u001b[0mx\u001b[0m\u001b[1;33m)\u001b[0m\u001b[1;33m)\u001b[0m\u001b[1;33m\u001b[0m\u001b[1;33m\u001b[0m\u001b[0m\n",
      "\u001b[1;32m<ipython-input-91-b6ff7b797384>\u001b[0m in \u001b[0;36mtext_cleaner\u001b[1;34m(text)\u001b[0m\n\u001b[0;32m      1\u001b[0m \u001b[1;31m# cleaning the spacyed text\u001b[0m\u001b[1;33m\u001b[0m\u001b[1;33m\u001b[0m\u001b[1;33m\u001b[0m\u001b[0m\n\u001b[0;32m      2\u001b[0m \u001b[1;32mdef\u001b[0m \u001b[0mtext_cleaner\u001b[0m\u001b[1;33m(\u001b[0m\u001b[0mtext\u001b[0m\u001b[1;33m)\u001b[0m\u001b[1;33m:\u001b[0m\u001b[1;33m\u001b[0m\u001b[1;33m\u001b[0m\u001b[0m\n\u001b[1;32m----> 3\u001b[1;33m     \u001b[0mtext\u001b[0m \u001b[1;33m=\u001b[0m \u001b[0mre\u001b[0m\u001b[1;33m.\u001b[0m\u001b[0msub\u001b[0m\u001b[1;33m(\u001b[0m\u001b[1;34mr'\\n'\u001b[0m\u001b[1;33m,\u001b[0m \u001b[1;34m''\u001b[0m\u001b[1;33m,\u001b[0m \u001b[0mtext\u001b[0m\u001b[1;33m)\u001b[0m\u001b[1;33m\u001b[0m\u001b[1;33m\u001b[0m\u001b[0m\n\u001b[0m\u001b[0;32m      4\u001b[0m     \u001b[0mtext\u001b[0m \u001b[1;33m=\u001b[0m \u001b[0mre\u001b[0m\u001b[1;33m.\u001b[0m\u001b[0msub\u001b[0m\u001b[1;33m(\u001b[0m\u001b[1;34mr'--'\u001b[0m\u001b[1;33m,\u001b[0m \u001b[1;34m' '\u001b[0m\u001b[1;33m,\u001b[0m \u001b[0mtext\u001b[0m\u001b[1;33m)\u001b[0m\u001b[1;33m\u001b[0m\u001b[1;33m\u001b[0m\u001b[0m\n\u001b[0;32m      5\u001b[0m     \u001b[0mtext\u001b[0m \u001b[1;33m=\u001b[0m \u001b[0mre\u001b[0m\u001b[1;33m.\u001b[0m\u001b[0msub\u001b[0m\u001b[1;33m(\u001b[0m\u001b[1;34m\"[\\[].*?[\\]]\"\u001b[0m\u001b[1;33m,\u001b[0m \u001b[1;34m\"\"\u001b[0m\u001b[1;33m,\u001b[0m \u001b[0mtext\u001b[0m\u001b[1;33m)\u001b[0m\u001b[1;33m\u001b[0m\u001b[1;33m\u001b[0m\u001b[0m\n",
      "\u001b[1;32mC:\\Anaconda\\lib\\re.py\u001b[0m in \u001b[0;36msub\u001b[1;34m(pattern, repl, string, count, flags)\u001b[0m\n\u001b[0;32m    190\u001b[0m     \u001b[0ma\u001b[0m \u001b[0mcallable\u001b[0m\u001b[1;33m,\u001b[0m \u001b[0mit\u001b[0m\u001b[0;31m'\u001b[0m\u001b[0ms\u001b[0m \u001b[0mpassed\u001b[0m \u001b[0mthe\u001b[0m \u001b[0mMatch\u001b[0m \u001b[0mobject\u001b[0m \u001b[1;32mand\u001b[0m \u001b[0mmust\u001b[0m \u001b[1;32mreturn\u001b[0m\u001b[1;33m\u001b[0m\u001b[1;33m\u001b[0m\u001b[0m\n\u001b[0;32m    191\u001b[0m     a replacement string to be used.\"\"\"\n\u001b[1;32m--> 192\u001b[1;33m     \u001b[1;32mreturn\u001b[0m \u001b[0m_compile\u001b[0m\u001b[1;33m(\u001b[0m\u001b[0mpattern\u001b[0m\u001b[1;33m,\u001b[0m \u001b[0mflags\u001b[0m\u001b[1;33m)\u001b[0m\u001b[1;33m.\u001b[0m\u001b[0msub\u001b[0m\u001b[1;33m(\u001b[0m\u001b[0mrepl\u001b[0m\u001b[1;33m,\u001b[0m \u001b[0mstring\u001b[0m\u001b[1;33m,\u001b[0m \u001b[0mcount\u001b[0m\u001b[1;33m)\u001b[0m\u001b[1;33m\u001b[0m\u001b[1;33m\u001b[0m\u001b[0m\n\u001b[0m\u001b[0;32m    193\u001b[0m \u001b[1;33m\u001b[0m\u001b[0m\n\u001b[0;32m    194\u001b[0m \u001b[1;32mdef\u001b[0m \u001b[0msubn\u001b[0m\u001b[1;33m(\u001b[0m\u001b[0mpattern\u001b[0m\u001b[1;33m,\u001b[0m \u001b[0mrepl\u001b[0m\u001b[1;33m,\u001b[0m \u001b[0mstring\u001b[0m\u001b[1;33m,\u001b[0m \u001b[0mcount\u001b[0m\u001b[1;33m=\u001b[0m\u001b[1;36m0\u001b[0m\u001b[1;33m,\u001b[0m \u001b[0mflags\u001b[0m\u001b[1;33m=\u001b[0m\u001b[1;36m0\u001b[0m\u001b[1;33m)\u001b[0m\u001b[1;33m:\u001b[0m\u001b[1;33m\u001b[0m\u001b[1;33m\u001b[0m\u001b[0m\n",
      "\u001b[1;31mTypeError\u001b[0m: expected string or bytes-like object"
     ]
    }
   ],
   "source": [
    "df_train['Spacy-ed Text'] = df_train['Spacy-ed Text'].apply(lambda x: text_cleaner(x))\n",
    "df_test['Spacy-ed Text'] = df_test['Spacy-ed Text'].apply(lambda x: text_cleaner(x))"
   ]
  },
  {
   "cell_type": "code",
   "execution_count": 35,
   "metadata": {},
   "outputs": [
    {
     "data": {
      "text/html": [
       "<div>\n",
       "<style scoped>\n",
       "    .dataframe tbody tr th:only-of-type {\n",
       "        vertical-align: middle;\n",
       "    }\n",
       "\n",
       "    .dataframe tbody tr th {\n",
       "        vertical-align: top;\n",
       "    }\n",
       "\n",
       "    .dataframe thead th {\n",
       "        text-align: right;\n",
       "    }\n",
       "</style>\n",
       "<table border=\"1\" class=\"dataframe\">\n",
       "  <thead>\n",
       "    <tr style=\"text-align: right;\">\n",
       "      <th></th>\n",
       "      <th>Author</th>\n",
       "      <th>Text</th>\n",
       "      <th>Raw Character Count</th>\n",
       "      <th>Raw Word Count</th>\n",
       "      <th>AuthorNum</th>\n",
       "      <th>Spacy-ed Text</th>\n",
       "      <th>Meaningful Word Count</th>\n",
       "    </tr>\n",
       "  </thead>\n",
       "  <tbody>\n",
       "    <tr>\n",
       "      <th>0</th>\n",
       "      <td>Aaron Pressman</td>\n",
       "      <td>U.S. Senators on Tuesday sharply criticized a ...</td>\n",
       "      <td>3804</td>\n",
       "      <td>599</td>\n",
       "      <td>0</td>\n",
       "      <td>(U.S., Senators, on, Tuesday, sharply, critici...</td>\n",
       "      <td>{'U.S.': 1, 'senator': 3, 'Tuesday': 3, 'sharp...</td>\n",
       "    </tr>\n",
       "    <tr>\n",
       "      <th>1</th>\n",
       "      <td>Aaron Pressman</td>\n",
       "      <td>Two members of Congress criticised the Federal...</td>\n",
       "      <td>2158</td>\n",
       "      <td>349</td>\n",
       "      <td>0</td>\n",
       "      <td>(Two, members, of, Congress, criticised, the, ...</td>\n",
       "      <td>{'member': 1, 'Congress': 2, 'criticise': 1, '...</td>\n",
       "    </tr>\n",
       "    <tr>\n",
       "      <th>2</th>\n",
       "      <td>Aaron Pressman</td>\n",
       "      <td>Commuters stuck in traffic on the Leesburg Pik...</td>\n",
       "      <td>6403</td>\n",
       "      <td>1048</td>\n",
       "      <td>0</td>\n",
       "      <td>(Commuters, stuck, in, traffic, on, the, Leesb...</td>\n",
       "      <td>{'commuter': 1, 'stick': 1, 'traffic': 10, 'Le...</td>\n",
       "    </tr>\n",
       "    <tr>\n",
       "      <th>3</th>\n",
       "      <td>Aaron Pressman</td>\n",
       "      <td>A broad coalition of corporations went to Capi...</td>\n",
       "      <td>2223</td>\n",
       "      <td>329</td>\n",
       "      <td>0</td>\n",
       "      <td>(A, broad, coalition, of, corporations, went, ...</td>\n",
       "      <td>{'broad': 1, 'coalition': 1, 'corporation': 1,...</td>\n",
       "    </tr>\n",
       "    <tr>\n",
       "      <th>4</th>\n",
       "      <td>Aaron Pressman</td>\n",
       "      <td>On the Internet, where new products come and g...</td>\n",
       "      <td>4227</td>\n",
       "      <td>690</td>\n",
       "      <td>0</td>\n",
       "      <td>(On, the, Internet, ,, where, new, products, c...</td>\n",
       "      <td>{'internet': 10, 'new': 1, 'product': 1, 'come...</td>\n",
       "    </tr>\n",
       "  </tbody>\n",
       "</table>\n",
       "</div>"
      ],
      "text/plain": [
       "           Author                                               Text  \\\n",
       "0  Aaron Pressman  U.S. Senators on Tuesday sharply criticized a ...   \n",
       "1  Aaron Pressman  Two members of Congress criticised the Federal...   \n",
       "2  Aaron Pressman  Commuters stuck in traffic on the Leesburg Pik...   \n",
       "3  Aaron Pressman  A broad coalition of corporations went to Capi...   \n",
       "4  Aaron Pressman  On the Internet, where new products come and g...   \n",
       "\n",
       "   Raw Character Count  Raw Word Count AuthorNum  \\\n",
       "0                 3804             599         0   \n",
       "1                 2158             349         0   \n",
       "2                 6403            1048         0   \n",
       "3                 2223             329         0   \n",
       "4                 4227             690         0   \n",
       "\n",
       "                                       Spacy-ed Text  \\\n",
       "0  (U.S., Senators, on, Tuesday, sharply, critici...   \n",
       "1  (Two, members, of, Congress, criticised, the, ...   \n",
       "2  (Commuters, stuck, in, traffic, on, the, Leesb...   \n",
       "3  (A, broad, coalition, of, corporations, went, ...   \n",
       "4  (On, the, Internet, ,, where, new, products, c...   \n",
       "\n",
       "                               Meaningful Word Count  \n",
       "0  {'U.S.': 1, 'senator': 3, 'Tuesday': 3, 'sharp...  \n",
       "1  {'member': 1, 'Congress': 2, 'criticise': 1, '...  \n",
       "2  {'commuter': 1, 'stick': 1, 'traffic': 10, 'Le...  \n",
       "3  {'broad': 1, 'coalition': 1, 'corporation': 1,...  \n",
       "4  {'internet': 10, 'new': 1, 'product': 1, 'come...  "
      ]
     },
     "execution_count": 35,
     "metadata": {},
     "output_type": "execute_result"
    }
   ],
   "source": [
    "df_test.head()"
   ]
  },
  {
   "cell_type": "code",
   "execution_count": 39,
   "metadata": {},
   "outputs": [],
   "source": [
    "# didn't want a dictionary. I wanted a total:\n",
    "\n",
    "df_train['Meaningful Word Count Total'] = df_train['Meaningful Word Count'].apply(lambda x: sum(list(x.values())))\n",
    "df_test['Meaningful Word Count Total'] = df_test['Meaningful Word Count'].apply(lambda x: sum(list(x.values())))"
   ]
  },
  {
   "cell_type": "code",
   "execution_count": 40,
   "metadata": {},
   "outputs": [
    {
     "data": {
      "text/html": [
       "<div>\n",
       "<style scoped>\n",
       "    .dataframe tbody tr th:only-of-type {\n",
       "        vertical-align: middle;\n",
       "    }\n",
       "\n",
       "    .dataframe tbody tr th {\n",
       "        vertical-align: top;\n",
       "    }\n",
       "\n",
       "    .dataframe thead th {\n",
       "        text-align: right;\n",
       "    }\n",
       "</style>\n",
       "<table border=\"1\" class=\"dataframe\">\n",
       "  <thead>\n",
       "    <tr style=\"text-align: right;\">\n",
       "      <th></th>\n",
       "      <th>Author</th>\n",
       "      <th>Text</th>\n",
       "      <th>Raw Character Count</th>\n",
       "      <th>Raw Word Count</th>\n",
       "      <th>AuthorNum</th>\n",
       "      <th>Spacy-ed Text</th>\n",
       "      <th>Meaningful Word Count</th>\n",
       "      <th>Meaningful Word Count Total</th>\n",
       "    </tr>\n",
       "  </thead>\n",
       "  <tbody>\n",
       "    <tr>\n",
       "      <th>0</th>\n",
       "      <td>Aaron Pressman</td>\n",
       "      <td>The Internet may be overflowing with new techn...</td>\n",
       "      <td>2009</td>\n",
       "      <td>319</td>\n",
       "      <td>0</td>\n",
       "      <td>(The, Internet, may, be, overflowing, with, ne...</td>\n",
       "      <td>{'internet': 8, 'overflow': 1, 'new': 1, 'tech...</td>\n",
       "      <td>201</td>\n",
       "    </tr>\n",
       "    <tr>\n",
       "      <th>1</th>\n",
       "      <td>Aaron Pressman</td>\n",
       "      <td>The U.S. Postal Service announced Wednesday a ...</td>\n",
       "      <td>2604</td>\n",
       "      <td>416</td>\n",
       "      <td>0</td>\n",
       "      <td>(The, U.S., Postal, Service, announced, Wednes...</td>\n",
       "      <td>{'U.S.': 1, 'Postal': 4, 'Service': 4, 'announ...</td>\n",
       "      <td>259</td>\n",
       "    </tr>\n",
       "    <tr>\n",
       "      <th>2</th>\n",
       "      <td>Aaron Pressman</td>\n",
       "      <td>Elementary school students with access to the ...</td>\n",
       "      <td>491</td>\n",
       "      <td>72</td>\n",
       "      <td>0</td>\n",
       "      <td>(Elementary, school, students, with, access, t...</td>\n",
       "      <td>{'elementary': 1, 'school': 3, 'student': 1, '...</td>\n",
       "      <td>52</td>\n",
       "    </tr>\n",
       "    <tr>\n",
       "      <th>3</th>\n",
       "      <td>Aaron Pressman</td>\n",
       "      <td>An influential Internet organisation has backe...</td>\n",
       "      <td>2907</td>\n",
       "      <td>463</td>\n",
       "      <td>0</td>\n",
       "      <td>(An, influential, Internet, organisation, has,...</td>\n",
       "      <td>{'influential': 1, 'internet': 5, 'organisatio...</td>\n",
       "      <td>265</td>\n",
       "    </tr>\n",
       "    <tr>\n",
       "      <th>4</th>\n",
       "      <td>Aaron Pressman</td>\n",
       "      <td>An influential Internet organisation has backe...</td>\n",
       "      <td>2299</td>\n",
       "      <td>356</td>\n",
       "      <td>0</td>\n",
       "      <td>(An, influential, Internet, organisation, has,...</td>\n",
       "      <td>{'influential': 1, 'internet': 6, 'organisatio...</td>\n",
       "      <td>208</td>\n",
       "    </tr>\n",
       "  </tbody>\n",
       "</table>\n",
       "</div>"
      ],
      "text/plain": [
       "           Author                                               Text  \\\n",
       "0  Aaron Pressman  The Internet may be overflowing with new techn...   \n",
       "1  Aaron Pressman  The U.S. Postal Service announced Wednesday a ...   \n",
       "2  Aaron Pressman  Elementary school students with access to the ...   \n",
       "3  Aaron Pressman  An influential Internet organisation has backe...   \n",
       "4  Aaron Pressman  An influential Internet organisation has backe...   \n",
       "\n",
       "   Raw Character Count  Raw Word Count AuthorNum  \\\n",
       "0                 2009             319         0   \n",
       "1                 2604             416         0   \n",
       "2                  491              72         0   \n",
       "3                 2907             463         0   \n",
       "4                 2299             356         0   \n",
       "\n",
       "                                       Spacy-ed Text  \\\n",
       "0  (The, Internet, may, be, overflowing, with, ne...   \n",
       "1  (The, U.S., Postal, Service, announced, Wednes...   \n",
       "2  (Elementary, school, students, with, access, t...   \n",
       "3  (An, influential, Internet, organisation, has,...   \n",
       "4  (An, influential, Internet, organisation, has,...   \n",
       "\n",
       "                               Meaningful Word Count  \\\n",
       "0  {'internet': 8, 'overflow': 1, 'new': 1, 'tech...   \n",
       "1  {'U.S.': 1, 'Postal': 4, 'Service': 4, 'announ...   \n",
       "2  {'elementary': 1, 'school': 3, 'student': 1, '...   \n",
       "3  {'influential': 1, 'internet': 5, 'organisatio...   \n",
       "4  {'influential': 1, 'internet': 6, 'organisatio...   \n",
       "\n",
       "   Meaningful Word Count Total  \n",
       "0                          201  \n",
       "1                          259  \n",
       "2                           52  \n",
       "3                          265  \n",
       "4                          208  "
      ]
     },
     "execution_count": 40,
     "metadata": {},
     "output_type": "execute_result"
    }
   ],
   "source": [
    "df_train.head()"
   ]
  },
  {
   "cell_type": "code",
   "execution_count": null,
   "metadata": {},
   "outputs": [],
   "source": [
    "# Remember when I said I didn't have to clean?\n",
    "# Yeah, well, I have to clean the data\n"
   ]
  },
  {
   "cell_type": "markdown",
   "metadata": {},
   "source": [
    "# Vectorizing! Changing Text to Numbers\n",
    "\n",
    "Once everything is numerical, then we can feed that data into the clusters for analysis."
   ]
  },
  {
   "cell_type": "code",
   "execution_count": 36,
   "metadata": {},
   "outputs": [],
   "source": [
    "df_train2 = df_train.copy()\n",
    "df_test2 = df_test.copy()"
   ]
  },
  {
   "cell_type": "code",
   "execution_count": 84,
   "metadata": {},
   "outputs": [
    {
     "name": "stdout",
     "output_type": "stream",
     "text": [
      "Counter({'\\n': 11, 'internet': 8, 'scam': 6, 'site': 6, 'say': 4, 'league': 4, 'consumer': 4, 'Fraud': 4, '$': 4, 'popular': 3, 'investor': 3, 'web': 3, 'Watch': 3, 'report': 3, 'League': 2, 'scheme': 2, 'bogus': 2, 'deposit': 2, 'commission': 2, 'Fortuna': 2, 'promise': 2, 'business': 2, 'overflow': 1, 'new': 1, 'technology': 1, 'crime': 1, 'cyberspace': 1, 'old': 1, 'fashioned': 1, 'variety': 1, 'National': 1, 'Consumers': 1, 'Wednesday': 1, 'pyramid': 1, 'early': 1, 'fund': 1, 'pay': 1, 'later': 1, 'non': 1, 'profit': 1, 'advocacy': 1, 'group': 1, 'track': 1, 'set': 1, 'world': 1, 'wide': 1, 'February': 1, 'call': 1, 'Internet': 1, 'http://www.fraud.org': 1, 'collect': 1, 'directly': 1, 'widely': 1, 'praise': 1, 'law': 1, 'enforcement': 1, 'agency': 1, 'suspect': 1, 'critical': 1, 'information': 1, 'Jodie': 1, 'Bernstein': 1, 'director': 1, 'Federal': 1, 'Trade': 1, 'Commission': 1, 'Bureau': 1, 'Consumer': 1, 'Protection': 1, 'major': 1, 'help': 1, 'FTC': 1, 'identify': 1, 'particular': 1, 'infancy': 1, 'example': 1, 'shut': 1, 'run': 1, 'Alliance': 1, 'take': 1, '6': 1, 'million': 1, 'earn': 1, '5,000': 1, 'month': 1, 'initial': 1, '250': 1, 'instead': 1, 'keep': 1, 'money': 1, 'charge': 1, 'visit': 1, '370,000': 1, 'time': 1, 'forward': 1, 'local': 1, 'state': 1, 'federal': 1, 'authority': 1, 'second': 1, 'sale': 1, 'service': 1, 'custom': 1, 'design': 1, 'access': 1, 'account': 1, 'place': 1, 'crook': 1, 'sell': 1, 'computer': 1, 'equipment': 1, 'memory': 1, 'chip': 1, 'sound': 1, 'board': 1, 'net': 1, 'deliver': 1, 'significantly': 1, 'low': 1, 'quality': 1, 'good': 1, 'involve': 1, 'opportunity': 1, 'con': 1, 'artist': 1, 'offer': 1, 'share': 1, 'franchise': 1, 'unreasonable': 1, 'prediction': 1, 'misrepresentation': 1, 'let': 1, 'rich': 1, 'work': 1, 'home': 1, 'announce': 1, 'Tuesday': 1, 'NationsBank': 1, 'donate': 1, '100,000': 1, 'sponsor': 1})\n",
      "['variety', '$', 'involve', 'Federal', 'directly', 'Alliance', 'set', 'share', 'praise', 'low', 'time', 'scam', 'non', 'rich', 'place', 'opportunity', 'example', 'Commission', 'fund', 'quality', 'Consumer', 'sell', 'track', '250', '100,000', 'February', 'overflow', 'site', 'enforcement', 'commission', 'league', 'law', 'internet', 'computer', 'Consumers', 'instead', 'Bernstein', 'Trade', 'board', 'Internet', 'FTC', 'crime', 'charge', '\\n', 'federal', 'access', 'information', 'shut', 'take', 'advocacy', 'wide', 'misrepresentation', 'Fraud', 'help', 'collect', 'equipment', 'bogus', '6', 'report', 'offer', 'infancy', 'sound', 'Jodie', 'director', 'money', 'custom', 'early', 'critical', 'home', 'investor', 'unreasonable', 'later', 'deliver', 'significantly', 'fashioned', 'promise', 'cyberspace', 'pyramid', 'net', 'Watch', 'prediction', 'old', 'donate', 'http://www.fraud.org', 'initial', 'NationsBank', '370,000', 'Wednesday', 'Fortuna', 'League', 'pay', 'world', 'month', 'service', 'particular', 'work', 'earn', 'consumer', 'major', 'let', 'visit', 'state', 'announce', 'sponsor', '5,000', 'deposit', 'run', 'profit', 'memory', 'technology', 'group', 'second', 'suspect', 'new', 'good', 'widely', 'business', 'web', 'identify', 'call', 'say', 'design', 'National', 'popular', 'con', 'million', 'authority', 'Tuesday', 'keep', 'Bureau', 'sale', 'agency', 'franchise', 'account', 'Protection', 'chip', 'artist', 'local', 'crook', 'scheme', 'forward']\n",
      "Counter({'\\n': 11, 'mail': 9, 'say': 7, 'Post': 7, 'Office': 7, 'electronic': 5, 'internet': 5, 'service': 5, 'Reisner': 5, 'Postal': 4, 'Service': 4, 'plan': 4, ' \\n': 4, 'security': 3, 'use': 3, 'new': 3, 'develop': 3, 'system': 3, 'bulk': 3, 'online': 2, 'commerce': 2, 'enhance': 2, 'business': 2, 'verify': 2, 'e': 2, 'tamper': 2, 'like': 2, 'send': 2, 'register': 2, 'investigate': 2, 'delivery': 2, 'Sun': 2, 'mailer': 2, 'Java': 2, 'private': 2, 'pilot': 2, 'early': 2, 'today': 2, 'U.S.': 1, 'announce': 1, 'Wednesday': 1, 'boost': 1, 'reliability': 1, 'travel': 1, 'consumer': 1, 'available': 1, 'ordinary': 1, 'certify': 1, 'letter': 1, 'leap': 1, 'trading': 1, 'message': 1, 'buy': 1, 'sell': 1, 'good': 1, 'block': 1, 'fear': 1, 'threat': 1, 'Robert': 1, 'vice': 1, 'president': 1, 'stategic': 1, 'planning': 1, 'expand': 1, 'local': 1, 'area': 1, 'network': 1, 'bilateral': 1, 'secure': 1, 'communication': 1, 'wide': 1, 'require': 1, 'generation': 1, 'reisner': 1, 'Cylink': 1, 'Corp': 1, 'identity': 1, 'sender': 1, 'enable': 1, 'people': 1, 'digital': 1, 'signature': 1, 'compare': 1, 'tampering': 1, 'discover': 1, 'regular': 1, 'non': 1, 'conjunction': 1, 'Microsystems': 1, 'rely': 1, 'computer': 1, 'language': 1, 'instead': 1, 'manually': 1, 'calculate': 1, 'postage': 1, 'rate': 1, 'mailing': 1, 'possibly': 1, 'outdate': 1, 'form': 1, 'able': 1, 'add': 1, 'charge': 1, 'software': 1, 'application': 1, 'write': 1, 'post': 1, 'eventually': 1, 'offer': 1, 'hybrid': 1, 'involve': 1, 'kind': 1, 'convert': 1, 'paper': 1, 'deliver': 1, 'day': 1, 'example': 1, 'move': 1, 'change': 1, 'address': 1, 'critic': 1, 'usurp': 1, 'function': 1, 'better': 1, 'perform': 1, 'sector': 1, 'reject': 1, 'argument': 1, 'maintain': 1, 'facilitate': 1, 'spread': 1, 'technology': 1, 'railroad': 1, 'aircraft': 1, 'remember': 1, 'return': 1, 'World': 1, 'War': 1, 'risk': 1, 'life': 1, 'dangerous': 1, 'duty': 1, 'Resiner': 1, 'refer': 1, 'airmail': 1, 'effort': 1, 'dare': 1, 'alive': 1, 'create': 1, 'part': 1, 'know': 1, 'weather': 1, 'navigation': 1, 'aid': 1, 'watch': 1, 'dynamic': 1, 'experience': 1, 'tell': 1, 'public': 1, 'job': 1, '--202': 1, '898': 1, '8312': 1})\n",
      "['available', 'involve', 'alive', 'leap', 'kind', 'network', 'letter', 'trading', 'function', 'job', 'block', 'post', 'non', 'security', 'rely', 'know', 'aid', 'paper', 'language', 'reisner', 'today', 'compare', 'example', 'experience', 'secure', 'airmail', 'mailer', 'identity', 'regular', 'delivery', 'commerce', 'perform', 'conjunction', 'sell', 'Java', 'develop', 'critic', 'return', 'address', 'remember', 'convert', 'require', 'like', 'boost', '8312', 'internet', 'computer', 'private', 'instead', 'mail', 'Cylink', 'online', ' \\n', 'Resiner', 'president', 'charge', 'day', '\\n', 'move', 'wide', 'digital', 'expand', 'Sun', 'application', 'discover', 'fear', 'weather', 'spread', 'World', 'message', 'dynamic', 'Postal', 'offer', 'communication', 'reliability', 'watch', 'enhance', 'Robert', 'tampering', 'dare', 'tell', 'sender', 'bulk', 'maintain', 'Reisner', 'vice', 'early', '898', 'hybrid', 'U.S.', 'form', 'area', 'duty', 'Post', 'enable', 'stategic', '--202', 'calculate', 'deliver', 'use', 'generation', 'create', 'navigation', 'travel', 'threat', 'usurp', 'verify', 'better', 'signature', 'possibly', 'Corp', 'add', 'life', 'effort', 'register', 'outdate', 'Wednesday', 'e', 'mailing', 'service', 'buy', 'software', 'pilot', 'consumer', 'electronic', 'manually', 'send', 'announce', 'part', 'aircraft', 'able', 'reject', 'bilateral', 'system', 'plan', 'certify', 'technology', 'change', 'risk', 'refer', 'facilitate', 'new', 'postage', 'Office', 'good', 'business', 'ordinary', 'Microsystems', 'say', 'tamper', 'public', 'argument', 'investigate', 'rate', 'railroad', 'sector', 'Service', 'write', 'eventually', 'dangerous', 'local', 'people', 'War', 'planning']\n"
     ]
    },
    {
     "ename": "TypeError",
     "evalue": "unhashable type: 'list'",
     "output_type": "error",
     "traceback": [
      "\u001b[1;31m---------------------------------------------------------------------------\u001b[0m",
      "\u001b[1;31mTypeError\u001b[0m                                 Traceback (most recent call last)",
      "\u001b[1;32m<ipython-input-84-00a5e4a9401a>\u001b[0m in \u001b[0;36m<module>\u001b[1;34m\u001b[0m\n\u001b[0;32m      6\u001b[0m     \u001b[0mprint\u001b[0m\u001b[1;33m(\u001b[0m\u001b[0mdct\u001b[0m\u001b[1;33m)\u001b[0m\u001b[1;33m\u001b[0m\u001b[1;33m\u001b[0m\u001b[0m\n\u001b[0;32m      7\u001b[0m     \u001b[0mprint\u001b[0m\u001b[1;33m(\u001b[0m\u001b[0mlist\u001b[0m\u001b[1;33m(\u001b[0m\u001b[0mset\u001b[0m\u001b[1;33m(\u001b[0m\u001b[0mdct\u001b[0m\u001b[1;33m)\u001b[0m\u001b[1;33m)\u001b[0m\u001b[1;33m)\u001b[0m\u001b[1;33m\u001b[0m\u001b[1;33m\u001b[0m\u001b[0m\n\u001b[1;32m----> 8\u001b[1;33m     \u001b[0mnew_words\u001b[0m \u001b[1;33m=\u001b[0m \u001b[0mlist\u001b[0m\u001b[1;33m(\u001b[0m\u001b[0mset\u001b[0m\u001b[1;33m(\u001b[0m\u001b[0mdct\u001b[0m\u001b[1;33m.\u001b[0m\u001b[0mkeys\u001b[0m\u001b[1;33m(\u001b[0m\u001b[1;33m)\u001b[0m\u001b[1;33m)\u001b[0m \u001b[1;33m-\u001b[0m \u001b[0mset\u001b[0m\u001b[1;33m(\u001b[0m\u001b[0mword_list\u001b[0m\u001b[1;33m)\u001b[0m\u001b[1;33m)\u001b[0m\u001b[1;33m\u001b[0m\u001b[1;33m\u001b[0m\u001b[0m\n\u001b[0m\u001b[0;32m      9\u001b[0m     \u001b[1;32mif\u001b[0m \u001b[0mlist\u001b[0m\u001b[1;33m(\u001b[0m\u001b[0mnew_words\u001b[0m\u001b[1;33m)\u001b[0m \u001b[1;33m!=\u001b[0m \u001b[1;33m[\u001b[0m\u001b[1;33m]\u001b[0m\u001b[1;33m:\u001b[0m\u001b[1;33m\u001b[0m\u001b[1;33m\u001b[0m\u001b[0m\n\u001b[0;32m     10\u001b[0m         \u001b[0mword_list\u001b[0m\u001b[1;33m.\u001b[0m\u001b[0mappend\u001b[0m\u001b[1;33m(\u001b[0m\u001b[0mlist\u001b[0m\u001b[1;33m(\u001b[0m\u001b[0mnew_words\u001b[0m\u001b[1;33m)\u001b[0m\u001b[1;33m)\u001b[0m\u001b[1;33m\u001b[0m\u001b[1;33m\u001b[0m\u001b[0m\n",
      "\u001b[1;31mTypeError\u001b[0m: unhashable type: 'list'"
     ]
    }
   ],
   "source": [
    "# trying to cheat to see if I can do this without straight vectorizing:\n",
    "\n",
    "word_list = []\n",
    "    \n",
    "for dct in df_train['Meaningful Word Count']:\n",
    "    print(dct)\n",
    "    print(list(set(dct)))\n",
    "    new_words = list(set(dct.keys()) - set(word_list))\n",
    "    if list(new_words) != []:\n",
    "        word_list.append(list(new_words))"
   ]
  },
  {
   "cell_type": "code",
   "execution_count": 41,
   "metadata": {},
   "outputs": [],
   "source": [
    "# setting up brief analysis\n",
    "\n",
    "cluster_X_train = df_train[['Raw Character Count', 'Raw Word Count', 'Meaningful Word Count Total']]\n",
    "cluster_X_test = df_test[['Raw Character Count', 'Raw Word Count', 'Meaningful Word Count Total']]"
   ]
  },
  {
   "cell_type": "code",
   "execution_count": 42,
   "metadata": {},
   "outputs": [],
   "source": [
    "import matplotlib.pyplot as plt\n",
    "import seaborn as sns\n",
    "from sklearn.cluster import KMeans\n",
    "from sklearn.preprocessing import normalize\n",
    "from sklearn.decomposition import PCA\n",
    "from sklearn.cluster import MiniBatchKMeans\n",
    "%matplotlib inline"
   ]
  },
  {
   "cell_type": "code",
   "execution_count": 50,
   "metadata": {},
   "outputs": [
    {
     "data": {
      "image/png": "[encoded data removed]",
      "text/plain": [
       "<Figure size 432x288 with 1 Axes>"
      ]
     },
     "metadata": {
      "needs_background": "light"
     },
     "output_type": "display_data"
    },
    {
     "name": "stdout",
     "output_type": "stream",
     "text": [
      "Comparing k-means clusters against the data:\n",
      "AuthorNum  0   1   2   3   4   5   6   7   8   9  ...  40  41  42  43  44  45  \\\n",
      "row_0                                             ...                           \n",
      "0          71  56  74  64  44  42  27  35  59  41 ...  60  51  73  61  65  59   \n",
      "1           4  19   1  11  31  33  48  40  16  34 ...  15  24   2  14  10  16   \n",
      "\n",
      "AuthorNum  46  47  48  49  \n",
      "row_0                      \n",
      "0          58  38  47  70  \n",
      "1          17  37  28   5  \n",
      "\n",
      "[2 rows x 50 columns]\n"
     ]
    }
   ],
   "source": [
    "y = df_train['AuthorNum']\n",
    "\n",
    "X_norm = normalize(cluster_X_train)\n",
    "X_pca = PCA(2).fit_transform(X_norm)\n",
    "\n",
    "# PCA spreads data out (as a result of lower dimensionality, don't ask)\n",
    "# Normalizing is just needed (don't ask) - it will throw a ValueError otherwise.\n",
    "\n",
    "# Calculate predicted values.\n",
    "y_pred = KMeans(n_clusters=2, random_state=42).fit_predict(X_pca)\n",
    "\n",
    "# Plot the solution.\n",
    "plt.scatter(X_pca[:, 0], X_pca[:, 1], c=y_pred)\n",
    "plt.show()\n",
    "\n",
    "# Check the solution against the data.\n",
    "print('Comparing k-means clusters against the data:')\n",
    "print(pd.crosstab(y_pred, y)) # pandas version of confusion_matrix\n"
   ]
  },
  {
   "cell_type": "code",
   "execution_count": 87,
   "metadata": {},
   "outputs": [
    {
     "name": "stdout",
     "output_type": "stream",
     "text": [
      "The Czech Republic and Spain played out a scoreless draw in their World Cup group six qualifier on Wednesday, in a match that never lived up to expectations.\n",
      "The Czechs were facing their first big test since they reached the Euro 96 final, while Real Madrid's teenage striker Raul was looking to spark a depleted Spanish attack in his first full international.\n",
      "Both sides opened their World Cup campaigns last month with high-scoring victories over the two weakest teams in the group, Spain winning 6-2 in the Faroe Islands and the Czechs thrashing Malta 6-0.\n",
      "But Yugoslavia have already collected three wins and Slovakia two against the same two hapless victims and neither team could afford to give ground in Prague.\n",
      "Like two heavyweights feeling each other out in the early rounds, both teams started tentatively, waiting to pounce on the other's mistakes.\n",
      "The Spaniard's were the first to flinch when Kaiserslautern striker Pavel Kuka's cross found an unmarked Karel Poborsky just outside the crease. But the Manchester United midfielder failed to control the ball, wasting what would turn out be one of the game's few good scoring chances.\n",
      "Next it was the Czechs turn to falter. Newcastle United goalkeeper Pavel Srnicek, winning his first cap in over a year, tried to clear the ball, but hit attacker Alfonso Perez and watched helplessly as it rolled just wide of the net.\n",
      "The Czechs picked up their play in the second half, putting Spain on their heels for the rest of the game.\n",
      "\"I don't think we lost points tonight because they are such an excellent team. They played strongly in the defence and its too bad we missed out on the two great chances we had,\" said Czech striker Patrik Berger.\n",
      "Teams:\n",
      "Czech Republic: 1-Pavel Srnicek, 2-Radoslav Latal, 3-Jan Suchoparek, 4-Pavel Nedved (15-Martin Frydek, 86th), 5-Miroslav Kadlec, 6-Michal Hornak, 7-Jiri Nemec, 8-Karel Poborsky (17-Vladimir Smicer, 58th), 9-Pavel Kuka, 10-Patrik Berger, 11-Radek Bejbl\n",
      "Spain: 1-Andoni Zubizarreta, 2-Abelardo Fernandez, 3-Sergi Barjuan, 4-Rafael Alkorta, 5-Miguel Angel Nadal, 6-Fernando Hierro, 7-Raul Gonzalez, 8-Luis Enrique Martinez, 9-Guillermo Amor (18-Ismael Urzaiz, 76th), 10-Julen Guerrero (14-Josep Guardiola, 52nd), 11-Alfonso Perez (15-Roberto Rios, 73rd)\n",
      "\n",
      "Japan's Finance Ministry pledged on Thursday to lift its controls on management of employee pension funds, a key member of an advisory panel to the prime minister said.\n",
      "At a meeting of the Administrative Reform Council's subcommittee on deregulation, the ministry clearly stated it would abolish restrictions on where employee pension funds managed by trust banks could be invested, Yoshihiko Miyauchi, chairman of the subcommittee, told reporters.\n",
      "Under current rules, each trust bank must invest at least half of the funds it manages in fixed-income assets, such as Japanese government bonds, no more than 30 percent in Japanese stocks, no more than 30 percent in foreign currency-denominated shares and bonds, and no more than 20 percent in real estate.\n",
      "Miyauchi said the Finance Ministry said it would work out details on lifting its regulations on asset allocation by the end of the year.\n",
      "Japan's corporate pension system is divided into employee pension funds, which are supervised by the Welfare Ministry, and Tax-Qualified Retirement Pension (TQP) plans, which are supervised by the Finance Ministry.\n",
      "The Welfare Ministry abolished its restrictions on asset management by trust banks in April.\n",
      "Industry sources currently estimate assets in employee pension funds at about 42 trillion yen ($378 billion) and those in TQPs at about 18 trillion yen ($162 billion).\n",
      "However, Miyauchi quoted Finance Ministry officials as saying the ministry was still considering whether it would allow investment advisory companies to manage TQP plans.\n",
      "At the moment, only trust banks and life insurers are allowed to manage them.\n",
      "The Welfare Ministry has already lifted the rules it had to prevent investment advisory companies managing employee pension funds, although some restrictions remain on the firms.\n",
      "Japanese corporations have been urging the government to reform Japan's rigid corporate pension system in the face of low returns on investment and to help maintain the international competitiveness of Japanese firms.\n",
      "Employers participating in the corporate pension system are required to maintain specified yields, currently 5.5 percent a year, to guarantee pre-determined benefits.\n",
      "However, the actual return on pension funds' investments is now about three percent, due to Japan's record-low interest rates and weak economic recovery, industry sources say.\n",
      "Miyauchi said the Finance Ministry told the sub-committee it was studying ways to relax specified yields but had not given details.\n",
      "Securities industry sources said the abolition of restrictions on asset management would encourage fund managers to pump more money into Tokyo's stock market in order to boost returns on investment. ($1=111)\n",
      "\n",
      "Japan's Finance Ministry, which has long resisted calls from employers to reform the country's rigid corporate pension system, has finally decided to relax its tight grip.\n",
      "However, industry sources say its proposals fall short of what is needed to cope with Japan's rapidly \"greying\" society and the poor financial state of employee pension funds resulting from record-low interest rates and a weak economic recovery.\n",
      "\"Unless Japan undertakes a drastic overhaul of the corporate pension system, it will remain out of step with the rest of the world,\" said an official at an overseas-based investment advisory company.\n",
      "In the past, the amount of money Japanese corporate pension funds held was so small that authorities could regulate them without too much difficulty. But the amount has grown to about 60 trillion yen ($540 billion) and unless the current system is changed, it will hurt corporate balance sheets, he said.\n",
      "Yoshihiko Miyauchi, a key member of an advisory panel to the prime minister, said on Thursday that the Finance Ministry had stated in a subcommittee meeting on deregulation that it would abolish restrictions on where employee pension funds managed by trust banks could be invested.\n",
      "Under the current rules, each trust bank must invest at least half of the funds it manages in fixed-income assets, no more than 30 percent in Japanese stocks, no more than 30 percent in foreign currency-denominated shares and bonds, and no more than 20 percent in real estate.\n",
      "Japan's corporate pension system is divided into employee pension funds, which are supervised by the Welfare Ministry, and Tax-Qualified Retirement Pension plans (TQPs), which are supervised by the Finance Ministry.\n",
      "Miyauchi said the Finance Ministry was still considering whether to allow investment advisory firms to manage TQPs. It also told the subcommittee that it was studying whether to allow variable yields and flexible benefits, he said.\n",
      "The Welfare Ministry has steadily lifted its restrictions on the management on employee pension funds, which have assets estimated at 42 trillion yen ($378 billion), and allowed investment advisory firms to manage the funds.\n",
      "However, the Finance Ministry has barred investment advisory firms from managing TQPs, which have assets totalling 18 trillion yen ($162 billion). Only trust banks and life insurers are allowed to manage TQPs.\n",
      "Employers participating in the corporate pension system are required to maintain specified yields, currently 5.5 percent a year, to guarantee predetermined benefits. But the actual return on investments is now only about three percent.\n",
      "Because of the poor investment environment, many corporate pension funds are facing a shortage of funds to pay benefits to pensioners in the future, industry sources said. If pension funds fall short of meeting future payments, sponsoring companies must cover the shortfall.\n",
      "Industry sources said that investment advisory firms, especially foreign companies, are keen to manage TQPs.\n",
      "\"Generally speaking, fund managers at Japanese companies are conservative,\" said the official with the investment advisory company.\n",
      "\"They tend to avoid investment risks because they see the risks, which are short-term volatility, as something dangerous. But experienced foreign advisors are well-qualified to manage pension funds as they take reasonable risks in long-term pension fund management over 20- to 30-year periods,\" he said.\n",
      "He said British pension funds invest about 90 percent of their assets in equities, including about 15 percent in foreign stocks.\n",
      "Ken Okamura, a strategist at Dresdner Kleinwort Benson (Asia) Ltd, said in a recent report that if Japan completely abolished restrictions on asset management of corporate pension funds, it was likely to see more investment in local stocks.\n",
      "He estimated that at the moment, life insurers and trust banks put an average of about 20 percent of the pension assets they are entrusted with into local stocks.\n",
      "\"If corporate pension funds increase the weighting of local stocks to 30 percent, about six trillion yen ($54.0 billion) of funds will come to Japanese stock markets.\" ($1=111 yen)\n"
     ]
    },
    {
     "name": "stdout",
     "output_type": "stream",
     "text": [
      "\n"
     ]
    }
   ],
   "source": [
    "print(df_train['Spacy-ed Text'][52])\n",
    "print(df_train['Spacy-ed Text'][520])\n",
    "print(df_train['Spacy-ed Text'][521])"
   ]
  },
  {
   "cell_type": "code",
   "execution_count": null,
   "metadata": {},
   "outputs": [],
   "source": [
    "df_test[df_test.isna().any(axis=1)]"
   ]
  },
  {
   "cell_type": "code",
   "execution_count": 81,
   "metadata": {},
   "outputs": [
    {
     "data": {
      "text/plain": [
       "['specialist',\n",
       " 'plan',\n",
       " 'telephone',\n",
       " 'interview',\n",
       " 'group',\n",
       " '\\n',\n",
       " 'chair',\n",
       " 'complete',\n",
       " 'Association',\n",
       " 'David',\n",
       " 'aim',\n",
       " 'paper',\n",
       " 'issue',\n",
       " 'say',\n",
       " 'minimize',\n",
       " 'trademark',\n",
       " 'International',\n",
       " 'committee',\n",
       " 'month',\n",
       " 'release',\n",
       " 'work',\n",
       " 'association',\n",
       " 'address',\n",
       " 'name',\n",
       " 'white',\n",
       " 'Trademark',\n",
       " 'internet',\n",
       " 'dispute']"
      ]
     },
     "execution_count": 81,
     "metadata": {},
     "output_type": "execute_result"
    }
   ],
   "source": [
    "asdas = {1, 4, 3, 33, 333, 3333, 1, 3}\n",
    "ada = {1, 3, 4}\n",
    "\n",
    "ee = ['lead', 'co', 'Maher', 'recommendation']\n",
    "dddd = list(set(df_train['Meaningful Word Count'][5].keys()) - set(ee))\n",
    "dddd"
   ]
  },
  {
   "cell_type": "code",
   "execution_count": 76,
   "metadata": {},
   "outputs": [
    {
     "data": {
      "text/plain": [
       "['specialist',\n",
       " 'co',\n",
       " 'Maher',\n",
       " 'plan',\n",
       " 'telephone',\n",
       " 'interview',\n",
       " 'recommendation',\n",
       " 'chair',\n",
       " 'complete',\n",
       " 'Association',\n",
       " 'David',\n",
       " 'aim',\n",
       " 'paper',\n",
       " 'minimize',\n",
       " 'trademark',\n",
       " 'International',\n",
       " 'committee',\n",
       " 'release',\n",
       " 'work',\n",
       " 'association',\n",
       " 'address',\n",
       " 'white',\n",
       " 'Trademark',\n",
       " 'dispute']"
      ]
     },
     "execution_count": 76,
     "metadata": {},
     "output_type": "execute_result"
    }
   ],
   "source": [
    "list(set(df_train['Meaningful Word Count'][5].keys()) - set(df_train['Meaningful Word Count'][6].keys()))"
   ]
  },
  {
   "cell_type": "code",
   "execution_count": 86,
   "metadata": {},
   "outputs": [
    {
     "ename": "TypeError",
     "evalue": "unsupported operand type(s) for -: 'list' and 'str'",
     "output_type": "error",
     "traceback": [
      "\u001b[1;31m---------------------------------------------------------------------------\u001b[0m",
      "\u001b[1;31mTypeError\u001b[0m                                 Traceback (most recent call last)",
      "\u001b[1;32m<ipython-input-86-19a1261b6289>\u001b[0m in \u001b[0;36m<module>\u001b[1;34m\u001b[0m\n\u001b[0;32m      1\u001b[0m \u001b[0mdd\u001b[0m \u001b[1;33m=\u001b[0m \u001b[1;33m[\u001b[0m\u001b[1;34m'hey'\u001b[0m\u001b[1;33m,\u001b[0m \u001b[1;34m'mama'\u001b[0m\u001b[1;33m]\u001b[0m\u001b[1;33m\u001b[0m\u001b[1;33m\u001b[0m\u001b[0m\n\u001b[0;32m      2\u001b[0m \u001b[0mddd\u001b[0m \u001b[1;33m=\u001b[0m \u001b[1;33m[\u001b[0m\u001b[1;34m'mama'\u001b[0m\u001b[1;33m]\u001b[0m\u001b[1;33m\u001b[0m\u001b[1;33m\u001b[0m\u001b[0m\n\u001b[1;32m----> 3\u001b[1;33m \u001b[0mdd\u001b[0m\u001b[1;33m-\u001b[0m\u001b[1;34m'mama'\u001b[0m\u001b[1;33m\u001b[0m\u001b[1;33m\u001b[0m\u001b[0m\n\u001b[0m",
      "\u001b[1;31mTypeError\u001b[0m: unsupported operand type(s) for -: 'list' and 'str'"
     ]
    }
   ],
   "source": [
    "dd = ['hey', 'mama']\n",
    "ddd = ['mama']\n",
    "dd-'mama'"
   ]
  },
  {
   "cell_type": "code",
   "execution_count": 77,
   "metadata": {},
   "outputs": [
    {
     "data": {
      "text/plain": [
       "{1, 3, 4}"
      ]
     },
     "execution_count": 77,
     "metadata": {},
     "output_type": "execute_result"
    }
   ],
   "source": [
    "asd = [1,3,4]\n",
    "set(asd)"
   ]
  },
  {
   "cell_type": "code",
   "execution_count": null,
   "metadata": {},
   "outputs": [],
   "source": []
  }
 ],
 "metadata": {
  "kernelspec": {
   "display_name": "Python 3",
   "language": "python",
   "name": "python3"
  },
  "language_info": {
   "codemirror_mode": {
    "name": "ipython",
    "version": 3
   },
   "file_extension": ".py",
   "mimetype": "text/x-python",
   "name": "python",
   "nbconvert_exporter": "python",
   "pygments_lexer": "ipython3",
   "version": "3.7.1"
  }
 },
 "nbformat": 4,
 "nbformat_minor": 2
}
